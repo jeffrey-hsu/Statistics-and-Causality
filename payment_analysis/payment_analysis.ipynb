{
 "cells": [
  {
   "cell_type": "markdown",
   "metadata": {},
   "source": [
    "<h1><center>Payment Data Analysis</center></h1>\n",
    "<h3><center>Jeffrey Hsu</center></h3>\n",
    "\n",
    "In this analysis, we try to answer the following three questions:\n",
    "* 1. Cohort analysis\n",
    "* 2. What are the features found within the data that can suggest a tangible solution to increase conversion rate on vouchers?\n",
    "* 3. Does longer journey results in (e.g. or at least correlated with) higher or lower conversion rate on vouchers?"
   ]
  },
  {
   "cell_type": "code",
   "execution_count": 359,
   "metadata": {
    "collapsed": false
   },
   "outputs": [],
   "source": [
    "# Loading python packages\n",
    "import sys\n",
    "import warnings\n",
    "import numpy as np\n",
    "import pandas as pd\n",
    "import math\n",
    "import scipy.stats as stats\n",
    "from sklearn import datasets, linear_model\n",
    "from sklearn.linear_model import LinearRegression\n",
    "import statsmodels.api as sm\n",
    "import matplotlib.pyplot as plt\n",
    "\n",
    "%matplotlib inline\n",
    "warnings.filterwarnings('ignore')"
   ]
  },
  {
   "cell_type": "markdown",
   "metadata": {},
   "source": [
    "### Loading Data"
   ]
  },
  {
   "cell_type": "code",
   "execution_count": 321,
   "metadata": {
    "collapsed": false
   },
   "outputs": [],
   "source": [
    "log = pd.read_csv(\"catalog.csv\", sep=\"|\")\n",
    "transfers = pd.read_csv(\"transfer_job.csv\", sep=\"|\")\n",
    "payments = pd.read_csv(\"payment_job.csv\", sep=\"|\")"
   ]
  },
  {
   "cell_type": "markdown",
   "metadata": {},
   "source": [
    "### Inspect data structure\n",
    "\n",
    "First, we want to check each table's structures and their column relations. Also, we would like to do some sanity check to see if the the uniqueness of table keys and the 1:N relationship between payments and transfers are as described."
   ]
  },
  {
   "cell_type": "code",
   "execution_count": 230,
   "metadata": {
    "collapsed": false
   },
   "outputs": [
    {
     "data": {
      "text/html": [
       "<div>\n",
       "<style>\n",
       "    .dataframe thead tr:only-child th {\n",
       "        text-align: right;\n",
       "    }\n",
       "\n",
       "    .dataframe thead th {\n",
       "        text-align: left;\n",
       "    }\n",
       "\n",
       "    .dataframe tbody tr th {\n",
       "        vertical-align: top;\n",
       "    }\n",
       "</style>\n",
       "<table border=\"1\" class=\"dataframe\">\n",
       "  <thead>\n",
       "    <tr style=\"text-align: right;\">\n",
       "      <th></th>\n",
       "      <th>payment_job_id</th>\n",
       "      <th>payment_issuer_id</th>\n",
       "      <th>amount</th>\n",
       "      <th>gender</th>\n",
       "      <th>status</th>\n",
       "      <th>created_at</th>\n",
       "      <th>closed_at</th>\n",
       "    </tr>\n",
       "  </thead>\n",
       "  <tbody>\n",
       "    <tr>\n",
       "      <th>0</th>\n",
       "      <td>3N2/gEX</td>\n",
       "      <td>ku67iuf</td>\n",
       "      <td>65.26</td>\n",
       "      <td>Male</td>\n",
       "      <td>Closed</td>\n",
       "      <td>2017-03-28 02:06:34.254341+00</td>\n",
       "      <td>2017-03-28 11:08:15.763343+00</td>\n",
       "    </tr>\n",
       "    <tr>\n",
       "      <th>1</th>\n",
       "      <td>t1hcFJ4</td>\n",
       "      <td>zxqi2ey</td>\n",
       "      <td>10.25</td>\n",
       "      <td>Male</td>\n",
       "      <td>Closed</td>\n",
       "      <td>2017-03-28 02:06:09.88215+00</td>\n",
       "      <td>2017-03-28 12:06:04.563339+00</td>\n",
       "    </tr>\n",
       "    <tr>\n",
       "      <th>2</th>\n",
       "      <td>bozVMtI</td>\n",
       "      <td>ku67iuf</td>\n",
       "      <td>96.18</td>\n",
       "      <td>Male</td>\n",
       "      <td>Closed</td>\n",
       "      <td>2017-03-28 02:06:25.162234+00</td>\n",
       "      <td>2017-03-28 12:00:34.403814+00</td>\n",
       "    </tr>\n",
       "    <tr>\n",
       "      <th>3</th>\n",
       "      <td>17OYtBy</td>\n",
       "      <td>ku67iuf</td>\n",
       "      <td>122.21</td>\n",
       "      <td>Male</td>\n",
       "      <td>Closed</td>\n",
       "      <td>2017-03-28 02:06:16.679556+00</td>\n",
       "      <td>2017-03-28 12:38:46.746275+00</td>\n",
       "    </tr>\n",
       "    <tr>\n",
       "      <th>4</th>\n",
       "      <td>ZymI3ly</td>\n",
       "      <td>ku67iuf</td>\n",
       "      <td>51.59</td>\n",
       "      <td>Female</td>\n",
       "      <td>Closed</td>\n",
       "      <td>2017-03-28 02:06:17.902805+00</td>\n",
       "      <td>2017-03-28 12:53:09.966339+00</td>\n",
       "    </tr>\n",
       "  </tbody>\n",
       "</table>\n",
       "</div>"
      ],
      "text/plain": [
       "  payment_job_id payment_issuer_id  amount  gender  status  \\\n",
       "0        3N2/gEX           ku67iuf   65.26    Male  Closed   \n",
       "1        t1hcFJ4           zxqi2ey   10.25    Male  Closed   \n",
       "2        bozVMtI           ku67iuf   96.18    Male  Closed   \n",
       "3        17OYtBy           ku67iuf  122.21    Male  Closed   \n",
       "4        ZymI3ly           ku67iuf   51.59  Female  Closed   \n",
       "\n",
       "                      created_at                      closed_at  \n",
       "0  2017-03-28 02:06:34.254341+00  2017-03-28 11:08:15.763343+00  \n",
       "1   2017-03-28 02:06:09.88215+00  2017-03-28 12:06:04.563339+00  \n",
       "2  2017-03-28 02:06:25.162234+00  2017-03-28 12:00:34.403814+00  \n",
       "3  2017-03-28 02:06:16.679556+00  2017-03-28 12:38:46.746275+00  \n",
       "4  2017-03-28 02:06:17.902805+00  2017-03-28 12:53:09.966339+00  "
      ]
     },
     "execution_count": 230,
     "metadata": {},
     "output_type": "execute_result"
    }
   ],
   "source": [
    "payments.head(5)"
   ]
  },
  {
   "cell_type": "code",
   "execution_count": 208,
   "metadata": {
    "collapsed": false
   },
   "outputs": [
    {
     "data": {
      "text/html": [
       "<div>\n",
       "<style>\n",
       "    .dataframe thead tr:only-child th {\n",
       "        text-align: right;\n",
       "    }\n",
       "\n",
       "    .dataframe thead th {\n",
       "        text-align: left;\n",
       "    }\n",
       "\n",
       "    .dataframe tbody tr th {\n",
       "        vertical-align: top;\n",
       "    }\n",
       "</style>\n",
       "<table border=\"1\" class=\"dataframe\">\n",
       "  <thead>\n",
       "    <tr style=\"text-align: right;\">\n",
       "      <th></th>\n",
       "      <th>transfer_job_id</th>\n",
       "      <th>payment_job_id</th>\n",
       "      <th>transfer_method_id</th>\n",
       "      <th>nominal_value</th>\n",
       "      <th>payout_method_id</th>\n",
       "      <th>status</th>\n",
       "      <th>created_at</th>\n",
       "      <th>updated_at</th>\n",
       "      <th>upside_amount</th>\n",
       "    </tr>\n",
       "  </thead>\n",
       "  <tbody>\n",
       "    <tr>\n",
       "      <th>25</th>\n",
       "      <td>3R8poR6</td>\n",
       "      <td>RzcCaF4</td>\n",
       "      <td>sopntbn</td>\n",
       "      <td>89.81</td>\n",
       "      <td>22yufl6</td>\n",
       "      <td>CLOSED</td>\n",
       "      <td>2017-03-23 21:14:32.194885+00</td>\n",
       "      <td>2017-03-23 21:14:57.243903+00</td>\n",
       "      <td>0.0</td>\n",
       "    </tr>\n",
       "    <tr>\n",
       "      <th>26</th>\n",
       "      <td>jUcZrWq</td>\n",
       "      <td>SAiJTfA</td>\n",
       "      <td>sopntbn</td>\n",
       "      <td>200.18</td>\n",
       "      <td>22yufl6</td>\n",
       "      <td>CLOSED</td>\n",
       "      <td>2017-03-24 08:00:07.10182+00</td>\n",
       "      <td>2017-03-24 08:00:28.197823+00</td>\n",
       "      <td>0.0</td>\n",
       "    </tr>\n",
       "    <tr>\n",
       "      <th>27</th>\n",
       "      <td>ewI/EXl</td>\n",
       "      <td>5CvsQl0</td>\n",
       "      <td>sopntbn</td>\n",
       "      <td>2940.00</td>\n",
       "      <td>22yufl6</td>\n",
       "      <td>CLOSED</td>\n",
       "      <td>2017-03-24 08:00:07.250803+00</td>\n",
       "      <td>2017-03-24 08:00:27.8514+00</td>\n",
       "      <td>0.0</td>\n",
       "    </tr>\n",
       "    <tr>\n",
       "      <th>28</th>\n",
       "      <td>zLqZVeO</td>\n",
       "      <td>nWjVANx</td>\n",
       "      <td>sopntbn</td>\n",
       "      <td>1365.74</td>\n",
       "      <td>22yufl6</td>\n",
       "      <td>CLOSED</td>\n",
       "      <td>2017-03-24 08:00:07.217147+00</td>\n",
       "      <td>2017-03-24 08:00:28.072865+00</td>\n",
       "      <td>0.0</td>\n",
       "    </tr>\n",
       "    <tr>\n",
       "      <th>29</th>\n",
       "      <td>JtM2JiQ</td>\n",
       "      <td>iUN4oF/</td>\n",
       "      <td>sopntbn</td>\n",
       "      <td>255.85</td>\n",
       "      <td>22yufl6</td>\n",
       "      <td>CLOSED</td>\n",
       "      <td>2017-03-24 08:00:07.061651+00</td>\n",
       "      <td>2017-03-24 08:00:27.678761+00</td>\n",
       "      <td>0.0</td>\n",
       "    </tr>\n",
       "    <tr>\n",
       "      <th>30</th>\n",
       "      <td>SBl+qQi</td>\n",
       "      <td>8eIOzUe</td>\n",
       "      <td>sopntbn</td>\n",
       "      <td>167.00</td>\n",
       "      <td>22yufl6</td>\n",
       "      <td>CLOSED</td>\n",
       "      <td>2017-04-02 20:50:42.284774+00</td>\n",
       "      <td>2017-04-02 20:50:57.230321+00</td>\n",
       "      <td>0.0</td>\n",
       "    </tr>\n",
       "    <tr>\n",
       "      <th>31</th>\n",
       "      <td>93UXy3n</td>\n",
       "      <td>Ro4wumd</td>\n",
       "      <td>sopntbn</td>\n",
       "      <td>13.12</td>\n",
       "      <td>22yufl6</td>\n",
       "      <td>CLOSED</td>\n",
       "      <td>2017-03-24 09:06:27.970877+00</td>\n",
       "      <td>2017-03-24 09:06:57.212641+00</td>\n",
       "      <td>0.0</td>\n",
       "    </tr>\n",
       "    <tr>\n",
       "      <th>32</th>\n",
       "      <td>RzAd/tm</td>\n",
       "      <td>zj8ht+m</td>\n",
       "      <td>sopntbn</td>\n",
       "      <td>24.29</td>\n",
       "      <td>22yufl6</td>\n",
       "      <td>CLOSED</td>\n",
       "      <td>2017-03-24 10:36:42.639543+00</td>\n",
       "      <td>2017-03-24 10:36:57.27015+00</td>\n",
       "      <td>0.0</td>\n",
       "    </tr>\n",
       "    <tr>\n",
       "      <th>33</th>\n",
       "      <td>Lhcul9t</td>\n",
       "      <td>AOsN8yR</td>\n",
       "      <td>6zqi3zy</td>\n",
       "      <td>20.00</td>\n",
       "      <td>NaN</td>\n",
       "      <td>CLOSED</td>\n",
       "      <td>2017-04-24 15:54:34.704354+00</td>\n",
       "      <td>2017-04-24 15:55:27.270089+00</td>\n",
       "      <td>0.0</td>\n",
       "    </tr>\n",
       "    <tr>\n",
       "      <th>34</th>\n",
       "      <td>rvZn9cA</td>\n",
       "      <td>Nb9dHuX</td>\n",
       "      <td>6zqi3zy</td>\n",
       "      <td>40.00</td>\n",
       "      <td>NaN</td>\n",
       "      <td>CLOSED</td>\n",
       "      <td>2017-04-24 15:55:08.644198+00</td>\n",
       "      <td>2017-04-24 15:55:57.187104+00</td>\n",
       "      <td>0.0</td>\n",
       "    </tr>\n",
       "  </tbody>\n",
       "</table>\n",
       "</div>"
      ],
      "text/plain": [
       "   transfer_job_id payment_job_id transfer_method_id  nominal_value  \\\n",
       "25         3R8poR6        RzcCaF4            sopntbn          89.81   \n",
       "26         jUcZrWq        SAiJTfA            sopntbn         200.18   \n",
       "27         ewI/EXl        5CvsQl0            sopntbn        2940.00   \n",
       "28         zLqZVeO        nWjVANx            sopntbn        1365.74   \n",
       "29         JtM2JiQ        iUN4oF/            sopntbn         255.85   \n",
       "30         SBl+qQi        8eIOzUe            sopntbn         167.00   \n",
       "31         93UXy3n        Ro4wumd            sopntbn          13.12   \n",
       "32         RzAd/tm        zj8ht+m            sopntbn          24.29   \n",
       "33         Lhcul9t        AOsN8yR            6zqi3zy          20.00   \n",
       "34         rvZn9cA        Nb9dHuX            6zqi3zy          40.00   \n",
       "\n",
       "   payout_method_id  status                     created_at  \\\n",
       "25          22yufl6  CLOSED  2017-03-23 21:14:32.194885+00   \n",
       "26          22yufl6  CLOSED   2017-03-24 08:00:07.10182+00   \n",
       "27          22yufl6  CLOSED  2017-03-24 08:00:07.250803+00   \n",
       "28          22yufl6  CLOSED  2017-03-24 08:00:07.217147+00   \n",
       "29          22yufl6  CLOSED  2017-03-24 08:00:07.061651+00   \n",
       "30          22yufl6  CLOSED  2017-04-02 20:50:42.284774+00   \n",
       "31          22yufl6  CLOSED  2017-03-24 09:06:27.970877+00   \n",
       "32          22yufl6  CLOSED  2017-03-24 10:36:42.639543+00   \n",
       "33              NaN  CLOSED  2017-04-24 15:54:34.704354+00   \n",
       "34              NaN  CLOSED  2017-04-24 15:55:08.644198+00   \n",
       "\n",
       "                       updated_at  upside_amount  \n",
       "25  2017-03-23 21:14:57.243903+00            0.0  \n",
       "26  2017-03-24 08:00:28.197823+00            0.0  \n",
       "27    2017-03-24 08:00:27.8514+00            0.0  \n",
       "28  2017-03-24 08:00:28.072865+00            0.0  \n",
       "29  2017-03-24 08:00:27.678761+00            0.0  \n",
       "30  2017-04-02 20:50:57.230321+00            0.0  \n",
       "31  2017-03-24 09:06:57.212641+00            0.0  \n",
       "32   2017-03-24 10:36:57.27015+00            0.0  \n",
       "33  2017-04-24 15:55:27.270089+00            0.0  \n",
       "34  2017-04-24 15:55:57.187104+00            0.0  "
      ]
     },
     "execution_count": 208,
     "metadata": {},
     "output_type": "execute_result"
    }
   ],
   "source": [
    "transfers[25:35]"
   ]
  },
  {
   "cell_type": "markdown",
   "metadata": {},
   "source": [
    "By just eyeballing several selected records, we can notice:\n",
    "* records where payout_method_id is not null correspond to payouts\n",
    "* records where payout_method_id is null correspond to vouchers"
   ]
  },
  {
   "cell_type": "code",
   "execution_count": 322,
   "metadata": {
    "collapsed": false
   },
   "outputs": [
    {
     "name": "stdout",
     "output_type": "stream",
     "text": [
      "(0, 9)\n"
     ]
    },
    {
     "data": {
      "text/html": [
       "<div>\n",
       "<style>\n",
       "    .dataframe thead tr:only-child th {\n",
       "        text-align: right;\n",
       "    }\n",
       "\n",
       "    .dataframe thead th {\n",
       "        text-align: left;\n",
       "    }\n",
       "\n",
       "    .dataframe tbody tr th {\n",
       "        vertical-align: top;\n",
       "    }\n",
       "</style>\n",
       "<table border=\"1\" class=\"dataframe\">\n",
       "  <thead>\n",
       "    <tr style=\"text-align: right;\">\n",
       "      <th></th>\n",
       "      <th>transfer_job_id</th>\n",
       "      <th>payment_job_id</th>\n",
       "      <th>transfer_method_id</th>\n",
       "      <th>nominal_value</th>\n",
       "      <th>payout_method_id</th>\n",
       "      <th>status</th>\n",
       "      <th>created_at</th>\n",
       "      <th>updated_at</th>\n",
       "      <th>upside_amount</th>\n",
       "    </tr>\n",
       "  </thead>\n",
       "  <tbody>\n",
       "    <tr>\n",
       "      <th>16</th>\n",
       "      <td>wX2drt5</td>\n",
       "      <td>YMZWxxX</td>\n",
       "      <td>rfqzuz2</td>\n",
       "      <td>20.00</td>\n",
       "      <td>NaN</td>\n",
       "      <td>CLOSED</td>\n",
       "      <td>2017-04-02 16:46:18.3472+00</td>\n",
       "      <td>2017-04-02 16:46:57.329727+00</td>\n",
       "      <td>2.0000</td>\n",
       "    </tr>\n",
       "    <tr>\n",
       "      <th>19</th>\n",
       "      <td>pd4wLll</td>\n",
       "      <td>ndYquZx</td>\n",
       "      <td>rfqzuz2</td>\n",
       "      <td>20.00</td>\n",
       "      <td>NaN</td>\n",
       "      <td>CLOSED</td>\n",
       "      <td>2017-04-02 16:48:30.548459+00</td>\n",
       "      <td>2017-04-02 16:49:27.337693+00</td>\n",
       "      <td>2.0000</td>\n",
       "    </tr>\n",
       "    <tr>\n",
       "      <th>42</th>\n",
       "      <td>65be3zD</td>\n",
       "      <td>hMPzyxJ</td>\n",
       "      <td>s66vazx</td>\n",
       "      <td>40.00</td>\n",
       "      <td>NaN</td>\n",
       "      <td>CLOSED</td>\n",
       "      <td>2017-04-03 13:28:04.239687+00</td>\n",
       "      <td>2017-04-03 13:28:57.365303+00</td>\n",
       "      <td>10.0000</td>\n",
       "    </tr>\n",
       "    <tr>\n",
       "      <th>54</th>\n",
       "      <td>yCFAEm4</td>\n",
       "      <td>Dcs6EvG</td>\n",
       "      <td>ybaa3gk</td>\n",
       "      <td>323.57</td>\n",
       "      <td>NaN</td>\n",
       "      <td>CLOSED</td>\n",
       "      <td>2017-03-25 15:12:12.204516+00</td>\n",
       "      <td>2017-03-25 15:12:57.30173+00</td>\n",
       "      <td>12.9428</td>\n",
       "    </tr>\n",
       "    <tr>\n",
       "      <th>57</th>\n",
       "      <td>dPqIbv/</td>\n",
       "      <td>6CgtNF9</td>\n",
       "      <td>ybaa3gk</td>\n",
       "      <td>235.04</td>\n",
       "      <td>NaN</td>\n",
       "      <td>CLOSED</td>\n",
       "      <td>2017-03-03 09:03:00.453757+00</td>\n",
       "      <td>2017-03-03 09:03:57.518374+00</td>\n",
       "      <td>9.4016</td>\n",
       "    </tr>\n",
       "  </tbody>\n",
       "</table>\n",
       "</div>"
      ],
      "text/plain": [
       "   transfer_job_id payment_job_id transfer_method_id  nominal_value  \\\n",
       "16         wX2drt5        YMZWxxX            rfqzuz2          20.00   \n",
       "19         pd4wLll        ndYquZx            rfqzuz2          20.00   \n",
       "42         65be3zD        hMPzyxJ            s66vazx          40.00   \n",
       "54         yCFAEm4        Dcs6EvG            ybaa3gk         323.57   \n",
       "57         dPqIbv/        6CgtNF9            ybaa3gk         235.04   \n",
       "\n",
       "   payout_method_id  status                     created_at  \\\n",
       "16              NaN  CLOSED    2017-04-02 16:46:18.3472+00   \n",
       "19              NaN  CLOSED  2017-04-02 16:48:30.548459+00   \n",
       "42              NaN  CLOSED  2017-04-03 13:28:04.239687+00   \n",
       "54              NaN  CLOSED  2017-03-25 15:12:12.204516+00   \n",
       "57              NaN  CLOSED  2017-03-03 09:03:00.453757+00   \n",
       "\n",
       "                       updated_at  upside_amount  \n",
       "16  2017-04-02 16:46:57.329727+00         2.0000  \n",
       "19  2017-04-02 16:49:27.337693+00         2.0000  \n",
       "42  2017-04-03 13:28:57.365303+00        10.0000  \n",
       "54   2017-03-25 15:12:57.30173+00        12.9428  \n",
       "57  2017-03-03 09:03:57.518374+00         9.4016  "
      ]
     },
     "execution_count": 322,
     "metadata": {},
     "output_type": "execute_result"
    }
   ],
   "source": [
    "upside_transfers = transfers[transfers.upside_amount != 0]\n",
    "print(upside_transfers[~upside_transfers.payout_method_id.isnull()].shape)\n",
    "upside_transfers.head(5)"
   ]
  },
  {
   "cell_type": "markdown",
   "metadata": {},
   "source": [
    "We see that all the transfers that comes with upside amount are done with voucher. There're 2 possibilities that results in this:\n",
    "* The upside amount is only offered when customer select voucher for reimbursement. That said, only payments that has at least partial voucher refund gives upside amount.\n",
    "* The upside amount is attracting customers to use voucher due to their positive experience with the shop. \n",
    "\n",
    "We can look further into these 2 scenarios later. "
   ]
  },
  {
   "cell_type": "code",
   "execution_count": 210,
   "metadata": {
    "collapsed": false
   },
   "outputs": [
    {
     "data": {
      "text/html": [
       "<div>\n",
       "<style>\n",
       "    .dataframe thead tr:only-child th {\n",
       "        text-align: right;\n",
       "    }\n",
       "\n",
       "    .dataframe thead th {\n",
       "        text-align: left;\n",
       "    }\n",
       "\n",
       "    .dataframe tbody tr th {\n",
       "        vertical-align: top;\n",
       "    }\n",
       "</style>\n",
       "<table border=\"1\" class=\"dataframe\">\n",
       "  <thead>\n",
       "    <tr style=\"text-align: right;\">\n",
       "      <th></th>\n",
       "      <th>payment_job_id</th>\n",
       "      <th>url_view</th>\n",
       "      <th>transfer_method_id</th>\n",
       "      <th>created_at</th>\n",
       "    </tr>\n",
       "  </thead>\n",
       "  <tbody>\n",
       "    <tr>\n",
       "      <th>25</th>\n",
       "      <td>4vNdI3J</td>\n",
       "      <td>campaigns</td>\n",
       "      <td>NaN</td>\n",
       "      <td>2017-02-15 10:15:04.99676+00</td>\n",
       "    </tr>\n",
       "    <tr>\n",
       "      <th>26</th>\n",
       "      <td>4vNdI3J</td>\n",
       "      <td>campaigns</td>\n",
       "      <td>NaN</td>\n",
       "      <td>2017-02-15 10:15:05.741158+00</td>\n",
       "    </tr>\n",
       "    <tr>\n",
       "      <th>27</th>\n",
       "      <td>DAxRnhZ</td>\n",
       "      <td>payout-methods</td>\n",
       "      <td>NaN</td>\n",
       "      <td>2017-02-15 10:23:24.920076+00</td>\n",
       "    </tr>\n",
       "    <tr>\n",
       "      <th>28</th>\n",
       "      <td>DAxRnhZ</td>\n",
       "      <td>campaigns</td>\n",
       "      <td>NaN</td>\n",
       "      <td>2017-02-15 10:23:24.927665+00</td>\n",
       "    </tr>\n",
       "    <tr>\n",
       "      <th>29</th>\n",
       "      <td>DAxRnhZ</td>\n",
       "      <td>campaigns</td>\n",
       "      <td>NaN</td>\n",
       "      <td>2017-02-15 10:23:25.002216+00</td>\n",
       "    </tr>\n",
       "    <tr>\n",
       "      <th>30</th>\n",
       "      <td>DAxRnhZ</td>\n",
       "      <td>transfer-method</td>\n",
       "      <td>zkloavz</td>\n",
       "      <td>2017-02-15 10:23:38.838475+00</td>\n",
       "    </tr>\n",
       "    <tr>\n",
       "      <th>31</th>\n",
       "      <td>4vNdI3J</td>\n",
       "      <td>transfer-method</td>\n",
       "      <td>zkloavz</td>\n",
       "      <td>2017-02-15 10:26:05.134305+00</td>\n",
       "    </tr>\n",
       "    <tr>\n",
       "      <th>32</th>\n",
       "      <td>4vNdI3J</td>\n",
       "      <td>payout-methods</td>\n",
       "      <td>NaN</td>\n",
       "      <td>2017-02-15 10:26:56.577137+00</td>\n",
       "    </tr>\n",
       "    <tr>\n",
       "      <th>33</th>\n",
       "      <td>4vNdI3J</td>\n",
       "      <td>campaigns</td>\n",
       "      <td>NaN</td>\n",
       "      <td>2017-02-15 10:27:00.474495+00</td>\n",
       "    </tr>\n",
       "    <tr>\n",
       "      <th>34</th>\n",
       "      <td>4vNdI3J</td>\n",
       "      <td>campaigns</td>\n",
       "      <td>NaN</td>\n",
       "      <td>2017-02-15 10:27:36.97355+00</td>\n",
       "    </tr>\n",
       "  </tbody>\n",
       "</table>\n",
       "</div>"
      ],
      "text/plain": [
       "   payment_job_id         url_view transfer_method_id  \\\n",
       "25        4vNdI3J        campaigns                NaN   \n",
       "26        4vNdI3J        campaigns                NaN   \n",
       "27        DAxRnhZ   payout-methods                NaN   \n",
       "28        DAxRnhZ        campaigns                NaN   \n",
       "29        DAxRnhZ        campaigns                NaN   \n",
       "30        DAxRnhZ  transfer-method            zkloavz   \n",
       "31        4vNdI3J  transfer-method            zkloavz   \n",
       "32        4vNdI3J   payout-methods                NaN   \n",
       "33        4vNdI3J        campaigns                NaN   \n",
       "34        4vNdI3J        campaigns                NaN   \n",
       "\n",
       "                       created_at  \n",
       "25   2017-02-15 10:15:04.99676+00  \n",
       "26  2017-02-15 10:15:05.741158+00  \n",
       "27  2017-02-15 10:23:24.920076+00  \n",
       "28  2017-02-15 10:23:24.927665+00  \n",
       "29  2017-02-15 10:23:25.002216+00  \n",
       "30  2017-02-15 10:23:38.838475+00  \n",
       "31  2017-02-15 10:26:05.134305+00  \n",
       "32  2017-02-15 10:26:56.577137+00  \n",
       "33  2017-02-15 10:27:00.474495+00  \n",
       "34   2017-02-15 10:27:36.97355+00  "
      ]
     },
     "execution_count": 210,
     "metadata": {},
     "output_type": "execute_result"
    }
   ],
   "source": [
    "log[25:35]"
   ]
  },
  {
   "cell_type": "code",
   "execution_count": 323,
   "metadata": {
    "collapsed": false
   },
   "outputs": [
    {
     "name": "stdout",
     "output_type": "stream",
     "text": [
      "Number of records in the payment job table is 1350\n",
      "Number of records in the transfer job table is 1316\n",
      "Number of records in the log table is 6072\n"
     ]
    }
   ],
   "source": [
    "print('Number of records in the payment job table is', payments.shape[0])\n",
    "print('Number of records in the transfer job table is', transfers.shape[0])\n",
    "print('Number of records in the log table is', log.shape[0])"
   ]
  },
  {
   "cell_type": "markdown",
   "metadata": {},
   "source": [
    "### Data sanity check"
   ]
  },
  {
   "cell_type": "code",
   "execution_count": 236,
   "metadata": {
    "collapsed": false
   },
   "outputs": [
    {
     "data": {
      "text/plain": [
       "0"
      ]
     },
     "execution_count": 236,
     "metadata": {},
     "output_type": "execute_result"
    }
   ],
   "source": [
    "# Check that every record in transfer jobs table has a corresponding payment record initiated\n",
    "transfers[~transfers.payment_job_id.isin(payments.payment_job_id)].shape[0]"
   ]
  },
  {
   "cell_type": "code",
   "execution_count": 235,
   "metadata": {
    "collapsed": false
   },
   "outputs": [
    {
     "data": {
      "text/plain": [
       "0"
      ]
     },
     "execution_count": 235,
     "metadata": {},
     "output_type": "execute_result"
    }
   ],
   "source": [
    "# Check that every and only Closed payment jobs are converted to trasfer jobs\n",
    "payments[ ( ~payments.payment_job_id.isin(transfers.payment_job_id) ) & \n",
    "          ( ~payments.status.isin([\"Start\", \"New\", \"Open\", \"Cancelled\"]) )].shape[0]"
   ]
  },
  {
   "cell_type": "markdown",
   "metadata": {},
   "source": [
    "### What are the characteristics of payments that resulted in vouchers?"
   ]
  },
  {
   "cell_type": "code",
   "execution_count": 324,
   "metadata": {
    "collapsed": false
   },
   "outputs": [],
   "source": [
    "# Add isMale booleon column\n",
    "payments[\"isMale\"] = (payments.gender == \"Male\")*1\n",
    "\n",
    "# in total 84 transfers were done via vouchers\n",
    "vouchers = transfers[transfers.payout_method_id.isnull()]\n",
    "payouts = transfers[~transfers.payout_method_id.isnull()]"
   ]
  },
  {
   "cell_type": "code",
   "execution_count": 325,
   "metadata": {
    "collapsed": false
   },
   "outputs": [
    {
     "name": "stdout",
     "output_type": "stream",
     "text": [
      "Number of payment jobs with at least 1 voucher: 66\n",
      "Number of payment jobs ended with fallback auto-payout: 903\n",
      "Number of payment jobs with user-specified payout: 329\n",
      "Percentage of payments with at least 1 voucher: 4.89\n"
     ]
    }
   ],
   "source": [
    "payments_with_voucher = payments[payments.payment_job_id.isin(vouchers.payment_job_id)]\n",
    "payments_with_fallback = payments[(payments.payment_job_id.isin(payouts.payment_job_id)) &\n",
    "                                  (payments.status ==\"Fallback\")]\n",
    "payments_with_payout = payments[(payments.payment_job_id.isin(payouts.payment_job_id)) &\n",
    "                               (payments.status ==\"Closed\")]\n",
    "\n",
    "print(\"Number of payment jobs with at least 1 voucher:\", payments_with_voucher.shape[0])\n",
    "print(\"Number of payment jobs ended with fallback auto-payout:\", payments_with_fallback.shape[0])\n",
    "print(\"Number of payment jobs with user-specified payout:\", payments_with_payout.shape[0])\n",
    "\n",
    "# percentage of payments that converted to at least 1 voucher \n",
    "print(\"Percentage of payments with at least 1 voucher:\", \n",
    "      round(payments_with_voucher.shape[0] / payments.shape[0] * 100, 2))\n"
   ]
  },
  {
   "cell_type": "code",
   "execution_count": 334,
   "metadata": {
    "collapsed": false
   },
   "outputs": [
    {
     "name": "stdout",
     "output_type": "stream",
     "text": [
      "Average amount of payments that converts to at least 1 voucher: 130.222878788\n",
      "Average amount of payments that converts to payouts: 354.083009119\n",
      "Average amount of payments that resulted in fallbacks: 172.658028793\n",
      "Standard deviation of payments that converts to at least 1 voucher: 262.852854238\n",
      "Standard deviation of payments that converts to payouts: 584.998935702\n",
      "Standard deviation of payments that resulted in fallbacks: 316.772639076\n",
      "\n",
      "Test of payment amount between vouchers and payouts:\n",
      " Ttest_indResult(statistic=-4.8777022096066736, pvalue=2.0910803299643736e-06)\n",
      "\n",
      "Test of payment amount between payouts and fallbacks:\n",
      " Ttest_indResult(statistic=5.3392346551451535, pvalue=1.5683037113623602e-07)\n",
      "\n",
      "Test of payment amount between vouchers and fallbacks:\n",
      " Ttest_indResult(statistic=-1.2383847553013891, pvalue=0.21922900138799206)\n"
     ]
    },
    {
     "data": {
      "image/png": "[encoded data removed]",
      "text/plain": [
       "<matplotlib.figure.Figure at 0x10e538fd0>"
      ]
     },
     "metadata": {},
     "output_type": "display_data"
    }
   ],
   "source": [
    "print(\"Average amount of payments that converts to at least 1 voucher:\", \n",
    "      np.average(payments_with_voucher.amount))\n",
    "\n",
    "print(\"Average amount of payments that converts to payouts:\", \n",
    "      np.average(payments_with_payout.amount))\n",
    "\n",
    "print(\"Average amount of payments that resulted in fallbacks:\", \n",
    "      np.average(payments_with_fallback.amount))\n",
    "\n",
    "print(\"Standard deviation of payments that converts to at least 1 voucher:\",\n",
    "      np.std(payments_with_voucher.amount))\n",
    "\n",
    "print(\"Standard deviation of payments that converts to payouts:\",\n",
    "      np.std(payments_with_payout.amount))\n",
    "\n",
    "print(\"Standard deviation of payments that resulted in fallbacks:\",\n",
    "      np.std(payments_with_fallback.amount))\n",
    "\n",
    "# 2 sample independent t test with 2 tailed significance threshold\n",
    "print(\"\\nTest of payment amount between vouchers and payouts:\\n\",\n",
    "      stats.ttest_ind(payments_with_voucher.amount,\n",
    "                payments_with_payout.amount,\n",
    "                equal_var=False))\n",
    "print(\"\\nTest of payment amount between payouts and fallbacks:\\n\",\n",
    "      stats.ttest_ind(payments_with_payout.amount,\n",
    "                payments_with_fallback.amount,\n",
    "                equal_var=False))\n",
    "print(\"\\nTest of payment amount between vouchers and fallbacks:\\n\",\n",
    "      stats.ttest_ind(payments_with_voucher.amount,\n",
    "                payments_with_fallback.amount,\n",
    "                equal_var=False))\n",
    "\n",
    "\n",
    "# Plot histogram of different cases\n",
    "plt.figure()\n",
    "plt.hist( [payments_with_voucher.amount,\n",
    "           payments_with_payout.amount,\n",
    "           payments_with_fallback.amount],\n",
    "         bins=\"auto\", color=[\"red\",\"blue\",\"pink\"], histtype=\"bar\",\n",
    "         label=[\"voucher\",\"payout\",\"fallback\"] )\n",
    "plt.title(\"Histogram of payment amount\")\n",
    "plt.show()"
   ]
  },
  {
   "cell_type": "markdown",
   "metadata": {},
   "source": [
    "We see that average amount of payments that converts to at least 1 voucher are lower than that of other payouts. The difference is statistically significant even with the proportionate higher standard deviation amount the samples. "
   ]
  },
  {
   "cell_type": "code",
   "execution_count": 332,
   "metadata": {
    "collapsed": false
   },
   "outputs": [
    {
     "name": "stdout",
     "output_type": "stream",
     "text": [
      "Average transfer value with vouchers: 54.6223809524\n",
      "Average transfer value with payouts: 220.306193182\n",
      "Standard deviation of transfer value with vouchers: 69.9749610425\n",
      "Standard deviation of transfer value with payouts: 413.226869273\n",
      "\n",
      "Test of transfer amount between vouchers and payouts:\n",
      " Ttest_indResult(statistic=-11.783342017785957, pvalue=2.7240148939491613e-29)\n"
     ]
    },
    {
     "data": {
      "image/png": "[encoded data removed]",
      "text/plain": [
       "<matplotlib.figure.Figure at 0x10d1f6748>"
      ]
     },
     "metadata": {},
     "output_type": "display_data"
    }
   ],
   "source": [
    "print(\"Average transfer value with vouchers:\", np.average(vouchers.nominal_value))\n",
    "print(\"Average transfer value with payouts:\", np.average(payouts.nominal_value))\n",
    "print(\"Standard deviation of transfer value with vouchers:\", np.std(vouchers.nominal_value))\n",
    "print(\"Standard deviation of transfer value with payouts:\", np.std(payouts.nominal_value))\n",
    "\n",
    "# 2 sample independent t test with 2 tailed significance threshold\n",
    "print(\"\\nTest of transfer amount between vouchers and payouts:\\n\",\n",
    "      stats.ttest_ind(vouchers.nominal_value, payouts.nominal_value, equal_var=False))\n",
    "\n",
    "plt.hist( [vouchers.nominal_value,\n",
    "           payouts.nominal_value],\n",
    "         bins=\"auto\", histtype=\"bar\",\n",
    "         color=[\"red\",\"blue\"],label=[\"voucher\",\"payout\"])\n",
    "plt.title(\"Histogram of transfer amount\")\n",
    "plt.show()\n"
   ]
  },
  {
   "cell_type": "code",
   "execution_count": 331,
   "metadata": {
    "collapsed": false
   },
   "outputs": [
    {
     "name": "stdout",
     "output_type": "stream",
     "text": [
      "For payments with at least 1 voucher, the male ratio is 0.742424242424\n",
      "For payments with payouts, the male ratio is 0.632218844985\n",
      "For payments with fallback auto-payout, the male ratio is 0.651162790698\n",
      "Male ratio standard deviation of at least 1 voucher: 0.437299081505\n",
      "Male ratio standard deviation of payout: 0.482201386384\n",
      "Male ratio standard deviation of fallbacks: 0.476602361207\n",
      "\n",
      "Test of male ratio between payments with vouchers and payments with payouts:\n",
      " Ttest_indResult(statistic=1.8239067747996014, pvalue=0.071184231188497163)\n",
      "\n",
      "Test of male ratio between payments with vouchers and fallbacks:\n",
      " Ttest_indResult(statistic=1.6148456945012593, pvalue=0.11045799912173027)\n",
      "\n",
      "Test of male ratio between payouts and fallbacks:\n",
      " Ttest_indResult(statistic=-0.61118217843794342, pvalue=0.54132009743789522)\n"
     ]
    }
   ],
   "source": [
    "print(\"For payments with at least 1 voucher, the male ratio is\",\n",
    "      np.average(payments_with_voucher.isMale))\n",
    "print(\"For payments with payouts, the male ratio is\",\n",
    "      np.average(payments_with_payout.isMale))\n",
    "print(\"For payments with fallback auto-payout, the male ratio is\",\n",
    "      np.average(payments_with_fallback.isMale))\n",
    "print(\"Male ratio standard deviation of at least 1 voucher:\",\n",
    "      np.std(payments_with_voucher.isMale))\n",
    "print(\"Male ratio standard deviation of payout:\",\n",
    "      np.std(payments_with_payout.isMale))\n",
    "print(\"Male ratio standard deviation of fallbacks:\",\n",
    "      np.std(payments_with_fallback.isMale))\n",
    "\n",
    "\n",
    "# 2 sample independent t test with 2 tailed significance threshold\n",
    "print(\"\\nTest of male ratio between payments with vouchers and payments with payouts:\\n\",\n",
    "      stats.ttest_ind(payments_with_voucher.isMale,\n",
    "                      payments_with_payout.isMale,equal_var=False))\n",
    "\n",
    "print(\"\\nTest of male ratio between payments with vouchers and fallbacks:\\n\",\n",
    "      stats.ttest_ind(payments_with_voucher.isMale,\n",
    "                payments_with_fallback.isMale,\n",
    "                equal_var=False))\n",
    "\n",
    "print(\"\\nTest of male ratio between payouts and fallbacks:\\n\",\n",
    "      stats.ttest_ind(payments_with_payout.isMale,\n",
    "                payments_with_fallback.isMale,\n",
    "                equal_var=False))"
   ]
  },
  {
   "cell_type": "markdown",
   "metadata": {},
   "source": [
    "#### Key findings:\n",
    "** - Payment amount that converted to payouts are typically larger than that of vouchers or resulted in fallbacks.**\n",
    "\n",
    "** - This can mean that if the refund amount is larger, the user is more concious about setting credit payout in the system.**\n",
    "\n",
    "** - Around 2/3 of payment jobs resulted in fallbacks. They are around the same payment amount as jobs that converted to vouchers. **\n",
    "\n",
    "** - Payments with at least 1 vouchers has are composed more of male users than that of payments with payouts. Although this difference is only slightly significant. **\n",
    "\n",
    "** - Gender composition for payments with vouchers are around the same as for payments ended up fallback.**\n",
    "\n",
    "** - Potential area on improving conversion rate can be focused on fallback payment orders that has similar amount and user characteristics as payments that converted to vouchers. E.g. A male customer with a small payment amount can be incentivized with a small upside amount for converting to vouchers.**"
   ]
  },
  {
   "cell_type": "markdown",
   "metadata": {},
   "source": [
    "### Add additional payment features\n",
    "\n",
    "We want to see which payment features predicts higher voucher percentage. Let's start by adding a few features that may exhibit trends for voucher transfer. \n",
    "\n",
    "* Booleon column to indicate whether the payment job have at least 1 voucher transfer executed\n",
    "* Sum of the total upside amount for each payment job\n",
    "* Sum of the total transferred amount. It should equal to the payment job amount for all closed payment jobs\n",
    "* Timespan of the payment job from start to close\n",
    "* Number of pages browsed before payment job is closed\n",
    "* Number of unique pages browsed before payment job is closed"
   ]
  },
  {
   "cell_type": "code",
   "execution_count": 335,
   "metadata": {
    "collapsed": false
   },
   "outputs": [],
   "source": [
    "# Add with voucher indicator to payment table\n",
    "# withVoucher = 1 indicates the payment job is converted to at least 1 voucher\n",
    "payments[\"withVoucher\"] = (payments.payment_job_id.isin(vouchers.payment_job_id))*1\n",
    "\n",
    "# Add total upside amount to payment table\n",
    "payment_upside = transfers.groupby([\"payment_job_id\"])[[\"upside_amount\"]].sum().reset_index()\n",
    "payments = pd.merge(payments, payment_upside, on=['payment_job_id'], how='left')\n",
    "\n",
    "# Add total transfer amount to payment table\n",
    "# Further check if total transfer amount is the same as payment job amount\n",
    "transfer_value = transfers.groupby([\"payment_job_id\"])[[\"nominal_value\"]].sum().reset_index()\n",
    "transfer_value.columns = [\"payment_job_id\",\"transfer_amount\"]\n",
    "payments = pd.merge(payments, transfer_value, on=['payment_job_id'], how='left')\n",
    "\n",
    "# Round the number columns to 2 decimal points - Not Needed\n",
    "#payments[\"amount\"].apply(lambda x: np.round(x, decimals=2))\n",
    "#payments[\"upside_amount\"].apply(lambda x: np.round(x, decimals=2))\n",
    "#payments[\"transfer_amount\"].apply(lambda x: np.round(x, decimals=2))"
   ]
  },
  {
   "cell_type": "code",
   "execution_count": 336,
   "metadata": {
    "collapsed": false
   },
   "outputs": [],
   "source": [
    "# Change to datetime type\n",
    "payments[\"created_at\"] =  pd.to_datetime(payments[\"created_at\"], format=\"%Y-%m-%d %H:%M:%S.%f\")\n",
    "payments[\"closed_at\"] =  pd.to_datetime(payments[\"closed_at\"], format=\"%Y-%m-%d %H:%M:%S.%f\")\n",
    "\n",
    "# Add timespan column indicating the full lifespan of a payment job in mins\n",
    "payments[\"timespan_mins\"] = (payments.closed_at-payments.created_at).astype('timedelta64[m]')"
   ]
  },
  {
   "cell_type": "code",
   "execution_count": 337,
   "metadata": {
    "collapsed": false
   },
   "outputs": [],
   "source": [
    "# Add the number of pages browsed for each payment transfer\n",
    "num_pages = log.groupby([\"payment_job_id\"])[[\"created_at\"]].count().reset_index()\n",
    "num_pages.columns = [\"payment_job_id\", \"num_pages\"]\n",
    "payments = pd.merge(payments, num_pages, on=['payment_job_id'], how='left')\n",
    "\n",
    "# Add the number of unique pages browsed for each payment transfer\n",
    "num_unique_pages = log.groupby([\"payment_job_id\"]).agg({\"url_view\": pd.Series.nunique}).reset_index()\n",
    "num_unique_pages.columns = [\"payment_job_id\", \"num_unique_pages\"]\n",
    "payments = pd.merge(payments, num_unique_pages, on=['payment_job_id'], how='left')"
   ]
  },
  {
   "cell_type": "code",
   "execution_count": 338,
   "metadata": {
    "collapsed": false
   },
   "outputs": [],
   "source": [
    "# Add the total voucher amount each payment job\n",
    "payment_voucher = transfers[transfers.payout_method_id.isnull()].groupby([\"payment_job_id\"])[[\"nominal_value\"]].sum().reset_index()\n",
    "payment_voucher.columns = [\"payment_job_id\", \"voucher_amount\"]\n",
    "payments = pd.merge(payments, payment_voucher, on=\"payment_job_id\", how=\"left\")"
   ]
  },
  {
   "cell_type": "code",
   "execution_count": 339,
   "metadata": {
    "collapsed": false
   },
   "outputs": [],
   "source": [
    "# Replace NaN value with 0\n",
    "payments[\"upside_amount\"].fillna(0, inplace=True)\n",
    "payments[\"transfer_amount\"].fillna(0, inplace=True)\n",
    "payments[\"timespan_mins\"].fillna(0, inplace=True)\n",
    "payments[\"num_pages\"].fillna(0, inplace=True)\n",
    "payments[\"num_unique_pages\"].fillna(0, inplace=True)\n",
    "payments[\"voucher_amount\"].fillna(0, inplace=True)"
   ]
  },
  {
   "cell_type": "code",
   "execution_count": 340,
   "metadata": {
    "collapsed": false
   },
   "outputs": [
    {
     "data": {
      "text/html": [
       "<div>\n",
       "<style>\n",
       "    .dataframe thead tr:only-child th {\n",
       "        text-align: right;\n",
       "    }\n",
       "\n",
       "    .dataframe thead th {\n",
       "        text-align: left;\n",
       "    }\n",
       "\n",
       "    .dataframe tbody tr th {\n",
       "        vertical-align: top;\n",
       "    }\n",
       "</style>\n",
       "<table border=\"1\" class=\"dataframe\">\n",
       "  <thead>\n",
       "    <tr style=\"text-align: right;\">\n",
       "      <th></th>\n",
       "      <th>payment_job_id</th>\n",
       "      <th>payment_issuer_id</th>\n",
       "      <th>amount</th>\n",
       "      <th>gender</th>\n",
       "      <th>status</th>\n",
       "      <th>created_at</th>\n",
       "      <th>closed_at</th>\n",
       "      <th>isMale</th>\n",
       "      <th>withVoucher</th>\n",
       "      <th>upside_amount</th>\n",
       "      <th>transfer_amount</th>\n",
       "      <th>timespan_mins</th>\n",
       "      <th>num_pages</th>\n",
       "      <th>num_unique_pages</th>\n",
       "      <th>voucher_amount</th>\n",
       "    </tr>\n",
       "  </thead>\n",
       "  <tbody>\n",
       "    <tr>\n",
       "      <th>0</th>\n",
       "      <td>3N2/gEX</td>\n",
       "      <td>ku67iuf</td>\n",
       "      <td>65.26</td>\n",
       "      <td>Male</td>\n",
       "      <td>Closed</td>\n",
       "      <td>2017-03-28 02:06:34.254341</td>\n",
       "      <td>2017-03-28 11:08:15.763343</td>\n",
       "      <td>1</td>\n",
       "      <td>0</td>\n",
       "      <td>0.0</td>\n",
       "      <td>65.26</td>\n",
       "      <td>541.0</td>\n",
       "      <td>5.0</td>\n",
       "      <td>2.0</td>\n",
       "      <td>0.0</td>\n",
       "    </tr>\n",
       "    <tr>\n",
       "      <th>1</th>\n",
       "      <td>t1hcFJ4</td>\n",
       "      <td>zxqi2ey</td>\n",
       "      <td>10.25</td>\n",
       "      <td>Male</td>\n",
       "      <td>Closed</td>\n",
       "      <td>2017-03-28 02:06:09.882150</td>\n",
       "      <td>2017-03-28 12:06:04.563339</td>\n",
       "      <td>1</td>\n",
       "      <td>0</td>\n",
       "      <td>0.0</td>\n",
       "      <td>10.25</td>\n",
       "      <td>599.0</td>\n",
       "      <td>7.0</td>\n",
       "      <td>3.0</td>\n",
       "      <td>0.0</td>\n",
       "    </tr>\n",
       "    <tr>\n",
       "      <th>2</th>\n",
       "      <td>bozVMtI</td>\n",
       "      <td>ku67iuf</td>\n",
       "      <td>96.18</td>\n",
       "      <td>Male</td>\n",
       "      <td>Closed</td>\n",
       "      <td>2017-03-28 02:06:25.162234</td>\n",
       "      <td>2017-03-28 12:00:34.403814</td>\n",
       "      <td>1</td>\n",
       "      <td>0</td>\n",
       "      <td>0.0</td>\n",
       "      <td>96.18</td>\n",
       "      <td>594.0</td>\n",
       "      <td>12.0</td>\n",
       "      <td>2.0</td>\n",
       "      <td>0.0</td>\n",
       "    </tr>\n",
       "  </tbody>\n",
       "</table>\n",
       "</div>"
      ],
      "text/plain": [
       "  payment_job_id payment_issuer_id  amount gender  status  \\\n",
       "0        3N2/gEX           ku67iuf   65.26   Male  Closed   \n",
       "1        t1hcFJ4           zxqi2ey   10.25   Male  Closed   \n",
       "2        bozVMtI           ku67iuf   96.18   Male  Closed   \n",
       "\n",
       "                  created_at                  closed_at  isMale  withVoucher  \\\n",
       "0 2017-03-28 02:06:34.254341 2017-03-28 11:08:15.763343       1            0   \n",
       "1 2017-03-28 02:06:09.882150 2017-03-28 12:06:04.563339       1            0   \n",
       "2 2017-03-28 02:06:25.162234 2017-03-28 12:00:34.403814       1            0   \n",
       "\n",
       "   upside_amount  transfer_amount  timespan_mins  num_pages  num_unique_pages  \\\n",
       "0            0.0            65.26          541.0        5.0               2.0   \n",
       "1            0.0            10.25          599.0        7.0               3.0   \n",
       "2            0.0            96.18          594.0       12.0               2.0   \n",
       "\n",
       "   voucher_amount  \n",
       "0             0.0  \n",
       "1             0.0  \n",
       "2             0.0  "
      ]
     },
     "execution_count": 340,
     "metadata": {},
     "output_type": "execute_result"
    }
   ],
   "source": [
    "payments.head(3)"
   ]
  },
  {
   "cell_type": "markdown",
   "metadata": {},
   "source": [
    "### What factors contribute to higher voucher amount?"
   ]
  },
  {
   "cell_type": "code",
   "execution_count": 353,
   "metadata": {
    "collapsed": false
   },
   "outputs": [],
   "source": [
    "from sklearn.utils import shuffle\n",
    "\n",
    "# Filter only for payment jobs that have been paid\n",
    "payments = payments[payments.status.isin([\"Closed\",\"Fallback\"])]\n",
    "# Shuffle the data\n",
    "payments = shuffle(payments)\n",
    "\n",
    "# Subset traning data, training labels, testing data and testing labels\n",
    "# Will be used for further regression modeling and testing\n",
    "train_data = payments[:-100][[\"amount\",\"isMale\",\"upside_amount\",\n",
    "                              \"timespan_mins\",\"num_pages\",\n",
    "                              \"num_unique_pages\"]]\n",
    "train_labels = payments[:-100][[\"voucher_amount\"]]\n",
    "\n",
    "test_data = payments[-100:][[\"amount\",\"isMale\",\"upside_amount\",\n",
    "                              \"timespan_mins\",\"num_pages\",\n",
    "                              \"num_unique_pages\"]]\n",
    "test_labels = payments[-100:][[\"voucher_amount\"]]"
   ]
  },
  {
   "cell_type": "code",
   "execution_count": 354,
   "metadata": {
    "collapsed": false
   },
   "outputs": [
    {
     "name": "stdout",
     "output_type": "stream",
     "text": [
      "training set size (1189, 6)\n",
      "training label size (1189, 1)\n",
      "test set size (100, 6)\n",
      "test label size (100, 1)\n"
     ]
    }
   ],
   "source": [
    "print(\"training set size\", train_data.shape)\n",
    "print(\"training label size\", train_labels.shape)\n",
    "print(\"test set size\", test_data.shape)\n",
    "print(\"test label size\", test_labels.shape)"
   ]
  },
  {
   "cell_type": "code",
   "execution_count": 356,
   "metadata": {
    "collapsed": false
   },
   "outputs": [
    {
     "name": "stdout",
     "output_type": "stream",
     "text": [
      "Coefficients: \n",
      " [[ -1.08005767e-03  -2.86671949e-02   1.67708575e+01   4.06995848e-05\n",
      "   -1.86880966e-01   1.75739752e+00]]\n",
      "Mean squared error: 22.43\n",
      "Variance score: 0.83\n"
     ]
    }
   ],
   "source": [
    "# Create linear model\n",
    "lm = sklearn.linear_model.LinearRegression()\n",
    "lm.fit(train_data, train_labels)\n",
    "\n",
    "# The coefficients\n",
    "print('Coefficients: \\n', lm.coef_)\n",
    "\n",
    "# The mean squared error\n",
    "print(\"Mean squared error: %.2f\"\n",
    "      % np.mean((lm.predict(test_data) - test_labels) ** 2))\n",
    "\n",
    "# Explained variance score: 1 is perfect prediction\n",
    "print('Variance score: %.2f' % lm.score(test_data, test_labels))"
   ]
  },
  {
   "cell_type": "code",
   "execution_count": 361,
   "metadata": {
    "collapsed": false
   },
   "outputs": [
    {
     "name": "stdout",
     "output_type": "stream",
     "text": [
      "                            OLS Regression Results                            \n",
      "==============================================================================\n",
      "Dep. Variable:         voucher_amount   R-squared:                       0.775\n",
      "Model:                            OLS   Adj. R-squared:                  0.774\n",
      "Method:                 Least Squares   F-statistic:                     679.8\n",
      "Date:                Tue, 20 Jun 2017   Prob (F-statistic):               0.00\n",
      "Time:                        01:09:11   Log-Likelihood:                -4566.2\n",
      "No. Observations:                1189   AIC:                             9146.\n",
      "Df Residuals:                    1182   BIC:                             9182.\n",
      "Df Model:                           6                                         \n",
      "Covariance Type:            nonrobust                                         \n",
      "====================================================================================\n",
      "                       coef    std err          t      P>|t|      [0.025      0.975]\n",
      "------------------------------------------------------------------------------------\n",
      "const               -0.1374      0.633     -0.217      0.828      -1.379       1.104\n",
      "amount              -0.0011      0.001     -1.350      0.177      -0.003       0.000\n",
      "isMale              -0.0287      0.688     -0.042      0.967      -1.379       1.322\n",
      "upside_amount       16.7709      0.286     58.651      0.000      16.210      17.332\n",
      "timespan_mins      4.07e-05      0.000      0.338      0.735      -0.000       0.000\n",
      "num_pages           -0.1869      0.048     -3.886      0.000      -0.281      -0.093\n",
      "num_unique_pages     1.7574      0.359      4.895      0.000       1.053       2.462\n",
      "==============================================================================\n",
      "Omnibus:                      595.096   Durbin-Watson:                   2.022\n",
      "Prob(Omnibus):                  0.000   Jarque-Bera (JB):           258432.758\n",
      "Skew:                           0.968   Prob(JB):                         0.00\n",
      "Kurtosis:                      75.199   Cond. No.                     7.84e+03\n",
      "==============================================================================\n",
      "\n",
      "Warnings:\n",
      "[1] Standard Errors assume that the covariance matrix of the errors is correctly specified.\n",
      "[2] The condition number is large, 7.84e+03. This might indicate that there are\n",
      "strong multicollinearity or other numerical problems.\n"
     ]
    }
   ],
   "source": [
    "# To understand the p-value and effect of each feature,\n",
    "# let's fit a model with statmodels package\n",
    "X = sm.add_constant(train_data)\n",
    "est = sm.OLS(train_labels, X)\n",
    "print(est.fit().summary())"
   ]
  },
  {
   "cell_type": "markdown",
   "metadata": {},
   "source": [
    "#### Key Findings:\n",
    "\n",
    "**Note: The regression result shows which payment job characteristics correlated with higher voucher amount. However, given the data is observational, we shouldn't interpret this as causal effect. A typical mistake is to view it as if increasing strength of certain payment features will result in increased vouchers. This is wrong interpretation**\n",
    "\n",
    "**- The features that has a statistically significant relationship with voucher amount are gender, upside amount, number of pages browsed before payment closed and number of unique pages landed before payment closed**\n",
    "\n",
    "**- More pages viewed before payout corresponds to slightly lower voucher amount, on the contrary, more unique pages landed before payout corresponds to higher voucher amount. This can be understood that if a user landed on pages with similar information over and over, it will end up with a lower converted voucher amount. Whilst if guiding users through different pages with key information for transfer, it increases the converted voucher amount**\n",
    "\n",
    "**- All payments with upside amount ended up with partial voucher payout. Although this most likely is due to the fact that only when users select vouchers does he/she receive upside. But the large coefficient suggest that given an additional 1 euro/dollar of upside incentive, the resulting voucher amount will increase by near 17 times.**"
   ]
  },
  {
   "cell_type": "code",
   "execution_count": null,
   "metadata": {
    "collapsed": true
   },
   "outputs": [],
   "source": []
  }
 ],
 "metadata": {
  "kernelspec": {
   "display_name": "Python 3",
   "language": "python",
   "name": "python3"
  },
  "language_info": {
   "codemirror_mode": {
    "name": "ipython",
    "version": 3
   },
   "file_extension": ".py",
   "mimetype": "text/x-python",
   "name": "python",
   "nbconvert_exporter": "python",
   "pygments_lexer": "ipython3",
   "version": "3.5.1"
  }
 },
 "nbformat": 4,
 "nbformat_minor": 2
}
